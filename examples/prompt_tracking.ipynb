{
 "cells": [
  {
   "cell_type": "markdown",
   "metadata": {},
   "source": [
    "# Prompt management in MLFlow"
   ]
  },
  {
   "cell_type": "markdown",
   "metadata": {},
   "source": [
    "### Imports"
   ]
  },
  {
   "cell_type": "code",
   "execution_count": 2,
   "metadata": {},
   "outputs": [],
   "source": [
    "import mlflow"
   ]
  },
  {
   "cell_type": "code",
   "execution_count": 4,
   "metadata": {},
   "outputs": [],
   "source": [
    "# connect to MLFlow instance\n",
    "mlflow.set_tracking_uri('http://localhost:5000')"
   ]
  },
  {
   "cell_type": "markdown",
   "metadata": {},
   "source": [
    "### Adding a new prompt"
   ]
  },
  {
   "cell_type": "code",
   "execution_count": 5,
   "metadata": {},
   "outputs": [
    {
     "name": "stderr",
     "output_type": "stream",
     "text": [
      "2025/04/14 13:41:28 INFO mlflow.store.model_registry.abstract_store: Waiting up to 300 seconds for prompt version to finish creation. Prompt name: summarization-prompt, version 1\n"
     ]
    },
    {
     "name": "stdout",
     "output_type": "stream",
     "text": [
      "Created prompt 'summarization-prompt' (version 1)\n"
     ]
    }
   ],
   "source": [
    "# This example is inspired directly from https://mlflow.org/docs/latest/prompts examples\n",
    "\n",
    "# Use double curly braces for variables in the template\n",
    "initial_template = \"\"\"\\\n",
    "Summarize content you are provided with in {{ num_sentences }} sentences.\n",
    "\n",
    "Sentences: {{ sentences }}\n",
    "\"\"\"\n",
    "\n",
    "# Register a new prompt\n",
    "prompt = mlflow.register_prompt(\n",
    "    name=\"summarization-prompt\",\n",
    "    template=initial_template,\n",
    "    # Optional: Provide a commit message to describe the changes\n",
    "    commit_message=\"Initial commit\",\n",
    "    # Optional: Specify any additional metadata about the prompt version\n",
    "    version_metadata={\n",
    "        \"author\": \"author@example.com\",\n",
    "    },\n",
    "    # Optional: Set tags applies to the prompt (across versions)\n",
    "    tags={\n",
    "        \"task\": \"summarization\",\n",
    "        \"language\": \"en\",\n",
    "    },\n",
    ")\n",
    "\n",
    "# The prompt object contains information about the registered prompt\n",
    "print(f\"Created prompt '{prompt.name}' (version {prompt.version})\")"
   ]
  },
  {
   "cell_type": "markdown",
   "metadata": {},
   "source": [
    "### Updating an existing prompt"
   ]
  },
  {
   "cell_type": "code",
   "execution_count": 6,
   "metadata": {},
   "outputs": [
    {
     "name": "stderr",
     "output_type": "stream",
     "text": [
      "2025/04/14 13:42:20 INFO mlflow.store.model_registry.abstract_store: Waiting up to 300 seconds for prompt version to finish creation. Prompt name: summarization-prompt, version 2\n"
     ]
    }
   ],
   "source": [
    "import mlflow\n",
    "\n",
    "new_template = \"\"\"\\\n",
    "You are an expert summarizer. Condense the following content into exactly {{ num_sentences }} clear and informative sentences that capture the key points.\n",
    "\n",
    "Sentences: {{ sentences }}\n",
    "\n",
    "Your summary should:\n",
    "- Contain exactly {{ num_sentences }} sentences\n",
    "- Include only the most important information\n",
    "- Be written in a neutral, objective tone\n",
    "- Maintain the same level of formality as the original text\n",
    "\"\"\"\n",
    "\n",
    "# Register a new version of an existing prompt\n",
    "updated_prompt = mlflow.register_prompt(\n",
    "    name=\"summarization-prompt\",  # Specify the existing prompt name\n",
    "    template=new_template,\n",
    "    commit_message=\"Improvement\",\n",
    "    version_metadata={\n",
    "        \"author\": \"author@example.com\",\n",
    "    },\n",
    ")"
   ]
  },
  {
   "cell_type": "markdown",
   "metadata": {},
   "source": [
    "### Using the prompt"
   ]
  },
  {
   "cell_type": "code",
   "execution_count": null,
   "metadata": {},
   "outputs": [
    {
     "name": "stdout",
     "output_type": "stream",
     "text": [
      "You are an expert summarizer. Condense the following content into exactly 1 clear and informative sentences that capture the key points.\n",
      "\n",
      "Sentences: \n",
      "MLflow is an open source platform for managing the end-to-end machine learning lifecycle.\n",
      "It tackles four primary functions in the ML lifecycle: Tracking experiments, packaging ML\n",
      "code for reuse, managing and deploying models, and providing a central model registry.\n",
      "MLflow currently offers these functions as four components: MLflow Tracking,\n",
      "MLflow Projects, MLflow Models, and MLflow Registry.\n",
      "\n",
      "\n",
      "Your summary should:\n",
      "- Contain exactly 1 sentences\n",
      "- Include only the most important information\n",
      "- Be written in a neutral, objective tone\n",
      "- Maintain the same level of formality as the original text\n",
      "\n"
     ]
    }
   ],
   "source": [
    "target_text = \"\"\"\n",
    "MLflow is an open source platform for managing the end-to-end machine learning lifecycle.\n",
    "It tackles four primary functions in the ML lifecycle: Tracking experiments, packaging ML\n",
    "code for reuse, managing and deploying models, and providing a central model registry.\n",
    "MLflow currently offers these functions as four components: MLflow Tracking,\n",
    "MLflow Projects, MLflow Models, and MLflow Registry.\n",
    "\"\"\"\n",
    "\n",
    "prompt = mlflow.load_prompt(\"prompts:/summarization-prompt/2\")\n",
    "\n",
    "print(prompt.format(num_sentences=1, sentences=target_text))"
   ]
  }
 ],
 "metadata": {
  "kernelspec": {
   "display_name": ".venv",
   "language": "python",
   "name": "python3"
  },
  "language_info": {
   "codemirror_mode": {
    "name": "ipython",
    "version": 3
   },
   "file_extension": ".py",
   "mimetype": "text/x-python",
   "name": "python",
   "nbconvert_exporter": "python",
   "pygments_lexer": "ipython3",
   "version": "3.12.3"
  }
 },
 "nbformat": 4,
 "nbformat_minor": 2
}
