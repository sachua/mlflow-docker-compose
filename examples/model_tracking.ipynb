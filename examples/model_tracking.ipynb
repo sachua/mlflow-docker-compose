{
 "cells": [
  {
   "cell_type": "markdown",
   "metadata": {},
   "source": [
    "# Adding a model to MLFlow"
   ]
  },
  {
   "cell_type": "markdown",
   "metadata": {},
   "source": [
    "### Imports"
   ]
  },
  {
   "cell_type": "code",
   "execution_count": 5,
   "metadata": {},
   "outputs": [
    {
     "name": "stdout",
     "output_type": "stream",
     "text": [
      "Successfully loaded .env file\n"
     ]
    }
   ],
   "source": [
    "from sklearn.datasets import make_regression\n",
    "from sklearn.ensemble import RandomForestRegressor\n",
    "from sklearn.metrics import mean_squared_error\n",
    "from sklearn.model_selection import train_test_split\n",
    "\n",
    "import mlflow\n",
    "import mlflow.sklearn\n",
    "from mlflow.models import infer_signature\n",
    "\n",
    "# For reading object store credentials\n",
    "import dotenv\n",
    "if dotenv.load_dotenv('../.env'):\n",
    "    print(\"Successfully loaded .env file\")\n",
    "else:\n",
    "    print(\"Loading .env file failed\")"
   ]
  },
  {
   "cell_type": "markdown",
   "metadata": {},
   "source": [
    "### Setting up experiment and tracking url"
   ]
  },
  {
   "cell_type": "code",
   "execution_count": 6,
   "metadata": {},
   "outputs": [
    {
     "name": "stdout",
     "output_type": "stream",
     "text": [
      "Using experiment id: 1\n"
     ]
    }
   ],
   "source": [
    "mlflow.set_tracking_uri('http://localhost:5000')\n",
    "\n",
    "experiment_name = \"demo-iris\"\n",
    "mlflow.set_experiment(experiment_name)\n",
    "print(\"Using experiment id:\", mlflow.get_experiment_by_name(experiment_name).experiment_id)"
   ]
  },
  {
   "cell_type": "markdown",
   "metadata": {},
   "source": [
    "### Train and add the model to MLFlow"
   ]
  },
  {
   "cell_type": "code",
   "execution_count": 7,
   "metadata": {},
   "outputs": [
    {
     "name": "stderr",
     "output_type": "stream",
     "text": [
      "\u001b[31m2025/03/26 12:43:28 WARNING mlflow.models.model: Model logged without a signature and input example. Please set `input_example` parameter when logging the model to auto infer the model signature.\u001b[0m\n",
      "Successfully registered model 'IrisRandomForest'.\n",
      "2025/03/26 12:43:28 INFO mlflow.store.model_registry.abstract_store: Waiting up to 300 seconds for model version to finish creation. Model name: IrisRandomForest, version 1\n"
     ]
    },
    {
     "name": "stdout",
     "output_type": "stream",
     "text": [
      "🏃 View run classy-smelt-896 at: http://localhost:5000/#/experiments/1/runs/d6bb3069c6b1431bb99a56f370ff76f0\n",
      "🧪 View experiment at: http://localhost:5000/#/experiments/1\n"
     ]
    },
    {
     "name": "stderr",
     "output_type": "stream",
     "text": [
      "Created version '1' of model 'IrisRandomForest'.\n"
     ]
    }
   ],
   "source": [
    "X, y = make_regression(n_features=4, n_informative=2, random_state=0, shuffle=False)\n",
    "X_train, X_test, y_train, y_test = train_test_split(X, y, test_size=0.2, random_state=42)\n",
    "    \n",
    "with mlflow.start_run() as run:\n",
    "    params = {\"max_depth\": 2, \"random_state\": 42}\n",
    "    model = RandomForestRegressor(**params)\n",
    "    model.fit(X_train, y_train)\n",
    "\n",
    "    # Infer the model signature\n",
    "    y_pred = model.predict(X_test)\n",
    "    signature = infer_signature(X_test, y_pred)\n",
    "\n",
    "    # Log parameters and metrics using the MLflow APIs\n",
    "    mlflow.log_params(params)\n",
    "    mlflow.log_metrics({\"mse\": mean_squared_error(y_test, y_pred)})\n",
    "\n",
    "    model_uri = mlflow.sklearn.log_model(\n",
    "        sk_model=model,\n",
    "        artifact_path=\"random-forest\",\n",
    "        registered_model_name=\"IrisRandomForest\"\n",
    "    )"
   ]
  },
  {
   "cell_type": "markdown",
   "metadata": {},
   "source": [
    "### Loading the model and inference"
   ]
  },
  {
   "cell_type": "code",
   "execution_count": 8,
   "metadata": {},
   "outputs": [
    {
     "name": "stdout",
     "output_type": "stream",
     "text": [
      "Loaded model predicts: [-25.73795219 -19.61227378  41.662821   -39.30386685 -32.70582446]\n"
     ]
    }
   ],
   "source": [
    "model_loaded = mlflow.pyfunc.load_model(\"models:/IrisRandomForest/latest\")\n",
    "print(\"Loaded model predicts:\", model_loaded.predict(X_test[:5]))"
   ]
  }
 ],
 "metadata": {
  "kernelspec": {
   "display_name": ".venv",
   "language": "python",
   "name": "python3"
  },
  "language_info": {
   "codemirror_mode": {
    "name": "ipython",
    "version": 3
   },
   "file_extension": ".py",
   "mimetype": "text/x-python",
   "name": "python",
   "nbconvert_exporter": "python",
   "pygments_lexer": "ipython3",
   "version": "3.11.4"
  }
 },
 "nbformat": 4,
 "nbformat_minor": 2
}
